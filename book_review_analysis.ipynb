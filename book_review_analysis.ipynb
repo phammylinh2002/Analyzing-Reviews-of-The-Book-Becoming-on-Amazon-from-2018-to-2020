{
 "cells": [
  {
   "cell_type": "markdown",
   "metadata": {},
   "source": [
    "# **ANALYZING REVIEWS OF THE BOOK BECOMING ON AMAZON FROM 2018 TO 2020**\n",
    "\n",
    "![Book Cover](images/book-cover.jpg)\n",
    "\n",
    "## **About this project**\n",
    "\n",
    "This small project aims to help me get back on track with data analytics while evaluating whether **Becoming** by **Michelle Obama** is worth reading. I’ve come across this book in many bookstores and have heard positive reviews, but I’m still unsure if it’s suitable for me at this time. By analyzing readers' reviews, we can gain insights into what people think about the book and decide whether to purchase it now or at a later stage in my life.\n",
    "\n",
    "## **About the data**\n",
    "\n",
    "The data in this project is pretty simple. It is from [Amazon Customer Review Dataverse](https://dataverse.harvard.edu/file.xhtml?fileId=5612736&version=1.0) of Harvard Dataverse. Now let's get into the work!"
   ]
  },
  {
   "cell_type": "markdown",
   "metadata": {},
   "source": [
    "## **Data Cleaning**\n",
    "\n",
    "First thing first! Let's import and see if the data is clean. Or not I will make it clean."
   ]
  },
  {
   "cell_type": "code",
   "execution_count": 1,
   "metadata": {},
   "outputs": [],
   "source": [
    "# Import libraries\n",
    "import pandas as pd"
   ]
  },
  {
   "cell_type": "code",
   "execution_count": 2,
   "metadata": {},
   "outputs": [],
   "source": [
    "# Load the data\n",
    "data = pd.read_csv('export_book.csv')"
   ]
  },
  {
   "cell_type": "code",
   "execution_count": 3,
   "metadata": {},
   "outputs": [
    {
     "name": "stdout",
     "output_type": "stream",
     "text": [
      "No columns:  10 \n",
      " No rows:  5000\n"
     ]
    },
    {
     "data": {
      "text/html": [
       "<div>\n",
       "<style scoped>\n",
       "    .dataframe tbody tr th:only-of-type {\n",
       "        vertical-align: middle;\n",
       "    }\n",
       "\n",
       "    .dataframe tbody tr th {\n",
       "        vertical-align: top;\n",
       "    }\n",
       "\n",
       "    .dataframe thead th {\n",
       "        text-align: right;\n",
       "    }\n",
       "</style>\n",
       "<table border=\"1\" class=\"dataframe\">\n",
       "  <thead>\n",
       "    <tr style=\"text-align: right;\">\n",
       "      <th></th>\n",
       "      <th>Unnamed: 0</th>\n",
       "      <th>asin</th>\n",
       "      <th>product name</th>\n",
       "      <th>ratings</th>\n",
       "      <th>reviews</th>\n",
       "      <th>helpful</th>\n",
       "      <th>date</th>\n",
       "      <th>Unnamed: 6</th>\n",
       "      <th>target</th>\n",
       "      <th>text</th>\n",
       "    </tr>\n",
       "  </thead>\n",
       "  <tbody>\n",
       "    <tr>\n",
       "      <th>0</th>\n",
       "      <td>0</td>\n",
       "      <td>1524763136</td>\n",
       "      <td>Becoming</td>\n",
       "      <td>5</td>\n",
       "      <td>\\n\\n  Slow and boring and self boasting.\\n\\n</td>\n",
       "      <td>4,100</td>\n",
       "      <td>13-Dec-18</td>\n",
       "      <td>NaN</td>\n",
       "      <td>p</td>\n",
       "      <td>\\n\\n  Slow and boring and self boasting.\\n\\n</td>\n",
       "    </tr>\n",
       "    <tr>\n",
       "      <th>1</th>\n",
       "      <td>1</td>\n",
       "      <td>1524763136</td>\n",
       "      <td>Becoming</td>\n",
       "      <td>5</td>\n",
       "      <td>\\n\\n  The last thing I wanted to read was a sh...</td>\n",
       "      <td>3,892</td>\n",
       "      <td>11-Dec-18</td>\n",
       "      <td>NaN</td>\n",
       "      <td>p</td>\n",
       "      <td>\\n\\n  The last thing I wanted to read was a sh...</td>\n",
       "    </tr>\n",
       "    <tr>\n",
       "      <th>2</th>\n",
       "      <td>2</td>\n",
       "      <td>1524763136</td>\n",
       "      <td>Becoming</td>\n",
       "      <td>1</td>\n",
       "      <td>\\n\\n  I believe I always loved Michelle Obama....</td>\n",
       "      <td>2,824</td>\n",
       "      <td>13-Nov-18</td>\n",
       "      <td>NaN</td>\n",
       "      <td>n</td>\n",
       "      <td>\\n\\n  I believe I always loved Michelle Obama....</td>\n",
       "    </tr>\n",
       "    <tr>\n",
       "      <th>3</th>\n",
       "      <td>3</td>\n",
       "      <td>1524763136</td>\n",
       "      <td>Becoming</td>\n",
       "      <td>1</td>\n",
       "      <td>\\n\\n  Worst piece of crap ever\\n\\n</td>\n",
       "      <td>3,182</td>\n",
       "      <td>11-Dec-18</td>\n",
       "      <td>NaN</td>\n",
       "      <td>n</td>\n",
       "      <td>\\n\\n  Worst piece of crap ever\\n\\n</td>\n",
       "    </tr>\n",
       "    <tr>\n",
       "      <th>4</th>\n",
       "      <td>4</td>\n",
       "      <td>1524763136</td>\n",
       "      <td>Becoming</td>\n",
       "      <td>1</td>\n",
       "      <td>\\n\\n  If you are an insomniac this book will d...</td>\n",
       "      <td>2,838</td>\n",
       "      <td>11-Dec-18</td>\n",
       "      <td>NaN</td>\n",
       "      <td>n</td>\n",
       "      <td>\\n\\n  If you are an insomniac this book will d...</td>\n",
       "    </tr>\n",
       "  </tbody>\n",
       "</table>\n",
       "</div>"
      ],
      "text/plain": [
       "   Unnamed: 0        asin product name  ratings  \\\n",
       "0           0  1524763136     Becoming        5   \n",
       "1           1  1524763136     Becoming        5   \n",
       "2           2  1524763136     Becoming        1   \n",
       "3           3  1524763136     Becoming        1   \n",
       "4           4  1524763136     Becoming        1   \n",
       "\n",
       "                                             reviews helpful       date  \\\n",
       "0       \\n\\n  Slow and boring and self boasting.\\n\\n   4,100  13-Dec-18   \n",
       "1  \\n\\n  The last thing I wanted to read was a sh...   3,892  11-Dec-18   \n",
       "2  \\n\\n  I believe I always loved Michelle Obama....   2,824  13-Nov-18   \n",
       "3                 \\n\\n  Worst piece of crap ever\\n\\n   3,182  11-Dec-18   \n",
       "4  \\n\\n  If you are an insomniac this book will d...   2,838  11-Dec-18   \n",
       "\n",
       "   Unnamed: 6 target                                               text  \n",
       "0         NaN      p       \\n\\n  Slow and boring and self boasting.\\n\\n  \n",
       "1         NaN      p  \\n\\n  The last thing I wanted to read was a sh...  \n",
       "2         NaN      n  \\n\\n  I believe I always loved Michelle Obama....  \n",
       "3         NaN      n                 \\n\\n  Worst piece of crap ever\\n\\n  \n",
       "4         NaN      n  \\n\\n  If you are an insomniac this book will d...  "
      ]
     },
     "execution_count": 3,
     "metadata": {},
     "output_type": "execute_result"
    }
   ],
   "source": [
    "# Display some of the data\n",
    "print(\"No columns: \", data.shape[1], \"\\n\", \"No rows: \", data.shape[0])\n",
    "data.head()"
   ]
  },
  {
   "cell_type": "markdown",
   "metadata": {},
   "source": [
    "There are 10 columns but some seems useless (because it may contain no other value but NaN or just 1 value) and some seems a duplicate of another column. Let's inspect them and remove if one is not neccessary!"
   ]
  },
  {
   "cell_type": "code",
   "execution_count": 4,
   "metadata": {},
   "outputs": [
    {
     "name": "stdout",
     "output_type": "stream",
     "text": [
      "Unnamed: 0  :  5000\n",
      "asin  :  1\n",
      "product name  :  1\n",
      "ratings  :  5\n",
      "reviews  :  4993\n",
      "helpful  :  147\n",
      "date  :  669\n",
      "Unnamed: 6  :  0\n",
      "target  :  2\n",
      "text  :  4993\n"
     ]
    }
   ],
   "source": [
    "# Check the dictint values in each column\n",
    "for col in data.columns:\n",
    "    print(col, \" : \", data[col].nunique())"
   ]
  },
  {
   "cell_type": "markdown",
   "metadata": {},
   "source": [
    "Let's look at them one by one:\n",
    "\n",
    "- **`Unnamed: 0`**: The number of unique values in this column equals to the number of rows of the dataset. It is clear that this column is just an index or the ID of each row in this dataset. Since I only have 1 dataset, there is no need for this column. \n",
    "\n",
    "- **`asin`**: This column is the opposite of the previous column. While the previous column contains 5000 unique values equaling to the number of rows of the dataset, this column contains only 1 value throughout the dataset. The data it holds is just a number which looks like a unique identifier. However, if the value is repeated, it is no longer a unique identifier. And as I do not need a unique identifier for this dataset, this column will be removed. \n",
    "\n",
    "- **`product name`**: Just like the previous column, this one only contains 1 value. And since the product whose reviews I analyze is just 1, there is no need for this column as well.\n",
    "\n",
    "- **`ratings`**: The number of unique values in this column is perfectly correct as there are 5 levels equivalent to 5 stars to rate a book. This one will stay. \n",
    "\n",
    "- **`reviews`**: Aha! This is the main character of this analysis. 4993 unique values out of 5000 values is not bad. To be honest, I expect it to be 5000 unique values in this column as no review should be the same as any other one. Definitely I will keep this one but I will inspect its duplicate values later.\n",
    "\n",
    "- **`helpful`**: This is the number of \"helpful\" votes other reviewers voted on a review. The number of unique values is okay, in my opinion. I will keep this one.\n",
    "\n",
    "- **`date`**: The uniqueness of the values in this column is okay too. This one will stay.\n",
    "\n",
    "- **`Unnamed: 6`**: Uh oh, this one is not good as it has 0 unique values. Look at some of its data above, its values are just NaN. Definitely delete it!\n",
    "\n",
    "- **`target`**: Though the uniqueness of the values in this column is okay, I don't see if it is any helpful. And I can't find the metadata for this specific dataset. So that it will go away.\n",
    "\n",
    "- **`text`**: It is easy to notice from the first 5 rows of the data printed above that the column **`reviews`** and this column are the same. Definitely this column will be removed. "
   ]
  },
  {
   "cell_type": "markdown",
   "metadata": {},
   "source": [
    "In short, the columns that will be removed are: **`Unnamed: 0`**, **`asin`**, **`product name`**, **`Unnamed: 6`**, **`target`**, **`text`** (6 columns)."
   ]
  },
  {
   "cell_type": "code",
   "execution_count": 5,
   "metadata": {},
   "outputs": [
    {
     "data": {
      "text/html": [
       "<div>\n",
       "<style scoped>\n",
       "    .dataframe tbody tr th:only-of-type {\n",
       "        vertical-align: middle;\n",
       "    }\n",
       "\n",
       "    .dataframe tbody tr th {\n",
       "        vertical-align: top;\n",
       "    }\n",
       "\n",
       "    .dataframe thead th {\n",
       "        text-align: right;\n",
       "    }\n",
       "</style>\n",
       "<table border=\"1\" class=\"dataframe\">\n",
       "  <thead>\n",
       "    <tr style=\"text-align: right;\">\n",
       "      <th></th>\n",
       "      <th>ratings</th>\n",
       "      <th>reviews</th>\n",
       "      <th>helpful</th>\n",
       "      <th>date</th>\n",
       "    </tr>\n",
       "  </thead>\n",
       "  <tbody>\n",
       "    <tr>\n",
       "      <th>0</th>\n",
       "      <td>5</td>\n",
       "      <td>\\n\\n  Slow and boring and self boasting.\\n\\n</td>\n",
       "      <td>4,100</td>\n",
       "      <td>13-Dec-18</td>\n",
       "    </tr>\n",
       "    <tr>\n",
       "      <th>1</th>\n",
       "      <td>5</td>\n",
       "      <td>\\n\\n  The last thing I wanted to read was a sh...</td>\n",
       "      <td>3,892</td>\n",
       "      <td>11-Dec-18</td>\n",
       "    </tr>\n",
       "    <tr>\n",
       "      <th>2</th>\n",
       "      <td>1</td>\n",
       "      <td>\\n\\n  I believe I always loved Michelle Obama....</td>\n",
       "      <td>2,824</td>\n",
       "      <td>13-Nov-18</td>\n",
       "    </tr>\n",
       "    <tr>\n",
       "      <th>3</th>\n",
       "      <td>1</td>\n",
       "      <td>\\n\\n  Worst piece of crap ever\\n\\n</td>\n",
       "      <td>3,182</td>\n",
       "      <td>11-Dec-18</td>\n",
       "    </tr>\n",
       "    <tr>\n",
       "      <th>4</th>\n",
       "      <td>1</td>\n",
       "      <td>\\n\\n  If you are an insomniac this book will d...</td>\n",
       "      <td>2,838</td>\n",
       "      <td>11-Dec-18</td>\n",
       "    </tr>\n",
       "  </tbody>\n",
       "</table>\n",
       "</div>"
      ],
      "text/plain": [
       "   ratings                                            reviews helpful  \\\n",
       "0        5       \\n\\n  Slow and boring and self boasting.\\n\\n   4,100   \n",
       "1        5  \\n\\n  The last thing I wanted to read was a sh...   3,892   \n",
       "2        1  \\n\\n  I believe I always loved Michelle Obama....   2,824   \n",
       "3        1                 \\n\\n  Worst piece of crap ever\\n\\n   3,182   \n",
       "4        1  \\n\\n  If you are an insomniac this book will d...   2,838   \n",
       "\n",
       "        date  \n",
       "0  13-Dec-18  \n",
       "1  11-Dec-18  \n",
       "2  13-Nov-18  \n",
       "3  11-Dec-18  \n",
       "4  11-Dec-18  "
      ]
     },
     "execution_count": 5,
     "metadata": {},
     "output_type": "execute_result"
    }
   ],
   "source": [
    "# Remove the columns\n",
    "data.drop(['Unnamed: 0', 'asin', 'product name', 'Unnamed: 6', 'target', 'text'], axis=1, inplace=True)\n",
    "data.head()"
   ]
  },
  {
   "cell_type": "markdown",
   "metadata": {},
   "source": [
    "Now let's look at the duplicate values in the `reviews` column!"
   ]
  },
  {
   "cell_type": "code",
   "execution_count": 6,
   "metadata": {},
   "outputs": [
    {
     "data": {
      "text/html": [
       "<div>\n",
       "<style scoped>\n",
       "    .dataframe tbody tr th:only-of-type {\n",
       "        vertical-align: middle;\n",
       "    }\n",
       "\n",
       "    .dataframe tbody tr th {\n",
       "        vertical-align: top;\n",
       "    }\n",
       "\n",
       "    .dataframe thead th {\n",
       "        text-align: right;\n",
       "    }\n",
       "</style>\n",
       "<table border=\"1\" class=\"dataframe\">\n",
       "  <thead>\n",
       "    <tr style=\"text-align: right;\">\n",
       "      <th></th>\n",
       "      <th>ratings</th>\n",
       "      <th>reviews</th>\n",
       "      <th>helpful</th>\n",
       "      <th>date</th>\n",
       "    </tr>\n",
       "  </thead>\n",
       "  <tbody>\n",
       "    <tr>\n",
       "      <th>65</th>\n",
       "      <td>5</td>\n",
       "      <td>\\n\\n  Boring\\n\\n</td>\n",
       "      <td>132</td>\n",
       "      <td>8-Jan-19</td>\n",
       "    </tr>\n",
       "    <tr>\n",
       "      <th>279</th>\n",
       "      <td>5</td>\n",
       "      <td>\\n\\n  Boring\\n\\n</td>\n",
       "      <td>10</td>\n",
       "      <td>30-May-19</td>\n",
       "    </tr>\n",
       "    <tr>\n",
       "      <th>1216</th>\n",
       "      <td>5</td>\n",
       "      <td>\\n\\n  Boring\\n\\n</td>\n",
       "      <td>39</td>\n",
       "      <td>16-Dec-18</td>\n",
       "    </tr>\n",
       "    <tr>\n",
       "      <th>4442</th>\n",
       "      <td>4</td>\n",
       "      <td>\\n\\n  Excellent\\n\\n</td>\n",
       "      <td>0</td>\n",
       "      <td>13-Jul-20</td>\n",
       "    </tr>\n",
       "    <tr>\n",
       "      <th>4936</th>\n",
       "      <td>5</td>\n",
       "      <td>\\n\\n  Excellent\\n\\n</td>\n",
       "      <td>0</td>\n",
       "      <td>6-May-20</td>\n",
       "    </tr>\n",
       "    <tr>\n",
       "      <th>4382</th>\n",
       "      <td>5</td>\n",
       "      <td>\\n\\n  Good book.\\n\\n</td>\n",
       "      <td>0</td>\n",
       "      <td>26-Jul-20</td>\n",
       "    </tr>\n",
       "    <tr>\n",
       "      <th>4706</th>\n",
       "      <td>5</td>\n",
       "      <td>\\n\\n  Good book.\\n\\n</td>\n",
       "      <td>0</td>\n",
       "      <td>2-Jun-20</td>\n",
       "    </tr>\n",
       "    <tr>\n",
       "      <th>2290</th>\n",
       "      <td>1</td>\n",
       "      <td>\\n\\n  Great book\\n\\n</td>\n",
       "      <td>1</td>\n",
       "      <td>6-Jun-20</td>\n",
       "    </tr>\n",
       "    <tr>\n",
       "      <th>4868</th>\n",
       "      <td>5</td>\n",
       "      <td>\\n\\n  Great book\\n\\n</td>\n",
       "      <td>0</td>\n",
       "      <td>10-May-20</td>\n",
       "    </tr>\n",
       "    <tr>\n",
       "      <th>647</th>\n",
       "      <td>5</td>\n",
       "      <td>\\n\\n  Love the book!\\n\\n</td>\n",
       "      <td>9</td>\n",
       "      <td>15-Nov-18</td>\n",
       "    </tr>\n",
       "    <tr>\n",
       "      <th>2781</th>\n",
       "      <td>5</td>\n",
       "      <td>\\n\\n  Love the book!\\n\\n</td>\n",
       "      <td>1</td>\n",
       "      <td>14-Jul-20</td>\n",
       "    </tr>\n",
       "    <tr>\n",
       "      <th>2751</th>\n",
       "      <td>5</td>\n",
       "      <td>\\n\\n  Loved this book.\\n\\n</td>\n",
       "      <td>1</td>\n",
       "      <td>14-Jul-20</td>\n",
       "    </tr>\n",
       "    <tr>\n",
       "      <th>4445</th>\n",
       "      <td>5</td>\n",
       "      <td>\\n\\n  Loved this book.\\n\\n</td>\n",
       "      <td>0</td>\n",
       "      <td>30-Aug-20</td>\n",
       "    </tr>\n",
       "  </tbody>\n",
       "</table>\n",
       "</div>"
      ],
      "text/plain": [
       "      ratings                     reviews helpful       date\n",
       "65          5            \\n\\n  Boring\\n\\n     132   8-Jan-19\n",
       "279         5            \\n\\n  Boring\\n\\n      10  30-May-19\n",
       "1216        5            \\n\\n  Boring\\n\\n      39  16-Dec-18\n",
       "4442        4         \\n\\n  Excellent\\n\\n       0  13-Jul-20\n",
       "4936        5         \\n\\n  Excellent\\n\\n       0   6-May-20\n",
       "4382        5        \\n\\n  Good book.\\n\\n       0  26-Jul-20\n",
       "4706        5        \\n\\n  Good book.\\n\\n       0   2-Jun-20\n",
       "2290        1        \\n\\n  Great book\\n\\n       1   6-Jun-20\n",
       "4868        5        \\n\\n  Great book\\n\\n       0  10-May-20\n",
       "647         5    \\n\\n  Love the book!\\n\\n       9  15-Nov-18\n",
       "2781        5    \\n\\n  Love the book!\\n\\n       1  14-Jul-20\n",
       "2751        5  \\n\\n  Loved this book.\\n\\n       1  14-Jul-20\n",
       "4445        5  \\n\\n  Loved this book.\\n\\n       0  30-Aug-20"
      ]
     },
     "execution_count": 6,
     "metadata": {},
     "output_type": "execute_result"
    }
   ],
   "source": [
    "data[data.reviews.duplicated(keep=False)].sort_values('reviews')"
   ]
  },
  {
   "cell_type": "markdown",
   "metadata": {},
   "source": [
    "Okay, it seems that this duplication is acceptable as those duplicate reviews are from different dates, some with different ratings and helpful votes. Therefore, those reviews are still valid. They are kept to go on with the analysis part. \n",
    "\n",
    "But before that, let me clean the leading and tailing \"\\n\\n\" characters in each review."
   ]
  },
  {
   "cell_type": "code",
   "execution_count": 7,
   "metadata": {},
   "outputs": [
    {
     "data": {
      "text/html": [
       "<div>\n",
       "<style scoped>\n",
       "    .dataframe tbody tr th:only-of-type {\n",
       "        vertical-align: middle;\n",
       "    }\n",
       "\n",
       "    .dataframe tbody tr th {\n",
       "        vertical-align: top;\n",
       "    }\n",
       "\n",
       "    .dataframe thead th {\n",
       "        text-align: right;\n",
       "    }\n",
       "</style>\n",
       "<table border=\"1\" class=\"dataframe\">\n",
       "  <thead>\n",
       "    <tr style=\"text-align: right;\">\n",
       "      <th></th>\n",
       "      <th>ratings</th>\n",
       "      <th>reviews</th>\n",
       "      <th>helpful</th>\n",
       "      <th>date</th>\n",
       "    </tr>\n",
       "  </thead>\n",
       "  <tbody>\n",
       "    <tr>\n",
       "      <th>0</th>\n",
       "      <td>5</td>\n",
       "      <td>Slow and boring and self boasting.</td>\n",
       "      <td>4,100</td>\n",
       "      <td>13-Dec-18</td>\n",
       "    </tr>\n",
       "    <tr>\n",
       "      <th>1</th>\n",
       "      <td>5</td>\n",
       "      <td>The last thing I wanted to read was a shallow ...</td>\n",
       "      <td>3,892</td>\n",
       "      <td>11-Dec-18</td>\n",
       "    </tr>\n",
       "    <tr>\n",
       "      <th>2</th>\n",
       "      <td>1</td>\n",
       "      <td>I believe I always loved Michelle Obama.  Her ...</td>\n",
       "      <td>2,824</td>\n",
       "      <td>13-Nov-18</td>\n",
       "    </tr>\n",
       "    <tr>\n",
       "      <th>3</th>\n",
       "      <td>1</td>\n",
       "      <td>Worst piece of crap ever</td>\n",
       "      <td>3,182</td>\n",
       "      <td>11-Dec-18</td>\n",
       "    </tr>\n",
       "    <tr>\n",
       "      <th>4</th>\n",
       "      <td>1</td>\n",
       "      <td>If you are an insomniac this book will definit...</td>\n",
       "      <td>2,838</td>\n",
       "      <td>11-Dec-18</td>\n",
       "    </tr>\n",
       "  </tbody>\n",
       "</table>\n",
       "</div>"
      ],
      "text/plain": [
       "   ratings                                            reviews helpful  \\\n",
       "0        5                 Slow and boring and self boasting.   4,100   \n",
       "1        5  The last thing I wanted to read was a shallow ...   3,892   \n",
       "2        1  I believe I always loved Michelle Obama.  Her ...   2,824   \n",
       "3        1                           Worst piece of crap ever   3,182   \n",
       "4        1  If you are an insomniac this book will definit...   2,838   \n",
       "\n",
       "        date  \n",
       "0  13-Dec-18  \n",
       "1  11-Dec-18  \n",
       "2  13-Nov-18  \n",
       "3  11-Dec-18  \n",
       "4  11-Dec-18  "
      ]
     },
     "execution_count": 7,
     "metadata": {},
     "output_type": "execute_result"
    }
   ],
   "source": [
    "# Remove \"\\n\\n\" from the reviews\n",
    "data['reviews'] = data['reviews'].str.replace(\"\\n\\n\", \"\").str.strip()\n",
    "data.head()"
   ]
  },
  {
   "cell_type": "markdown",
   "metadata": {},
   "source": [
    "It seems perfect now but I suspect the data types can be not right. Let's inspect it!"
   ]
  },
  {
   "cell_type": "code",
   "execution_count": 8,
   "metadata": {},
   "outputs": [
    {
     "data": {
      "text/plain": [
       "ratings     int64\n",
       "reviews    object\n",
       "helpful    object\n",
       "date       object\n",
       "dtype: object"
      ]
     },
     "execution_count": 8,
     "metadata": {},
     "output_type": "execute_result"
    }
   ],
   "source": [
    "data.dtypes"
   ]
  },
  {
   "cell_type": "markdown",
   "metadata": {},
   "source": [
    "Well, it is clear that I have to change the data type of the `helpful` and `date` columns."
   ]
  },
  {
   "cell_type": "code",
   "execution_count": 9,
   "metadata": {},
   "outputs": [
    {
     "data": {
      "text/plain": [
       "dtype('int64')"
      ]
     },
     "execution_count": 9,
     "metadata": {},
     "output_type": "execute_result"
    }
   ],
   "source": [
    "# Change the data type of the `helpful` column\n",
    "data['helpful'] = data['helpful'].str.replace(\",\", \"\").astype(int)\n",
    "data.helpful.dtypes"
   ]
  },
  {
   "cell_type": "code",
   "execution_count": 11,
   "metadata": {},
   "outputs": [
    {
     "data": {
      "text/plain": [
       "dtype('O')"
      ]
     },
     "execution_count": 11,
     "metadata": {},
     "output_type": "execute_result"
    }
   ],
   "source": [
    "# Change the data type of the `date` column\n",
    "data['date'] = pd.to_datetime(data['date'], format='%d-%b-%y').dt.strftime('%Y-%m-%d')\n",
    "data.date.dtypes"
   ]
  },
  {
   "cell_type": "markdown",
   "metadata": {},
   "source": [
    "Okay! Let's see the clean data now!"
   ]
  },
  {
   "cell_type": "code",
   "execution_count": 12,
   "metadata": {},
   "outputs": [
    {
     "data": {
      "text/html": [
       "<div>\n",
       "<style scoped>\n",
       "    .dataframe tbody tr th:only-of-type {\n",
       "        vertical-align: middle;\n",
       "    }\n",
       "\n",
       "    .dataframe tbody tr th {\n",
       "        vertical-align: top;\n",
       "    }\n",
       "\n",
       "    .dataframe thead th {\n",
       "        text-align: right;\n",
       "    }\n",
       "</style>\n",
       "<table border=\"1\" class=\"dataframe\">\n",
       "  <thead>\n",
       "    <tr style=\"text-align: right;\">\n",
       "      <th></th>\n",
       "      <th>ratings</th>\n",
       "      <th>reviews</th>\n",
       "      <th>helpful</th>\n",
       "      <th>date</th>\n",
       "    </tr>\n",
       "  </thead>\n",
       "  <tbody>\n",
       "    <tr>\n",
       "      <th>0</th>\n",
       "      <td>5</td>\n",
       "      <td>Slow and boring and self boasting.</td>\n",
       "      <td>4100</td>\n",
       "      <td>2018-12-13</td>\n",
       "    </tr>\n",
       "    <tr>\n",
       "      <th>1</th>\n",
       "      <td>5</td>\n",
       "      <td>The last thing I wanted to read was a shallow ...</td>\n",
       "      <td>3892</td>\n",
       "      <td>2018-12-11</td>\n",
       "    </tr>\n",
       "    <tr>\n",
       "      <th>2</th>\n",
       "      <td>1</td>\n",
       "      <td>I believe I always loved Michelle Obama.  Her ...</td>\n",
       "      <td>2824</td>\n",
       "      <td>2018-11-13</td>\n",
       "    </tr>\n",
       "    <tr>\n",
       "      <th>3</th>\n",
       "      <td>1</td>\n",
       "      <td>Worst piece of crap ever</td>\n",
       "      <td>3182</td>\n",
       "      <td>2018-12-11</td>\n",
       "    </tr>\n",
       "    <tr>\n",
       "      <th>4</th>\n",
       "      <td>1</td>\n",
       "      <td>If you are an insomniac this book will definit...</td>\n",
       "      <td>2838</td>\n",
       "      <td>2018-12-11</td>\n",
       "    </tr>\n",
       "  </tbody>\n",
       "</table>\n",
       "</div>"
      ],
      "text/plain": [
       "   ratings                                            reviews  helpful  \\\n",
       "0        5                 Slow and boring and self boasting.     4100   \n",
       "1        5  The last thing I wanted to read was a shallow ...     3892   \n",
       "2        1  I believe I always loved Michelle Obama.  Her ...     2824   \n",
       "3        1                           Worst piece of crap ever     3182   \n",
       "4        1  If you are an insomniac this book will definit...     2838   \n",
       "\n",
       "         date  \n",
       "0  2018-12-13  \n",
       "1  2018-12-11  \n",
       "2  2018-11-13  \n",
       "3  2018-12-11  \n",
       "4  2018-12-11  "
      ]
     },
     "execution_count": 12,
     "metadata": {},
     "output_type": "execute_result"
    }
   ],
   "source": [
    "data.head()"
   ]
  },
  {
   "cell_type": "markdown",
   "metadata": {},
   "source": [
    "Well, after some research, I think I need to process the data a little bit more as I want to analyze the text in the `reviews` column."
   ]
  },
  {
   "cell_type": "code",
   "execution_count": null,
   "metadata": {},
   "outputs": [],
   "source": []
  },
  {
   "cell_type": "markdown",
   "metadata": {},
   "source": [
    "## References\n",
    "\n",
    "Some articles or tutorials that helped me with this project.\n",
    "\n",
    "1. [Use Sentiment Analysis With Python to Classify Movie Reviews](https://realpython.com/sentiment-analysis-python/) by [Kyle Stratis](https://realpython.com/team/kstratis/)."
   ]
  }
 ],
 "metadata": {
  "kernelspec": {
   "display_name": "Python 3",
   "language": "python",
   "name": "python3"
  },
  "language_info": {
   "codemirror_mode": {
    "name": "ipython",
    "version": 3
   },
   "file_extension": ".py",
   "mimetype": "text/x-python",
   "name": "python",
   "nbconvert_exporter": "python",
   "pygments_lexer": "ipython3",
   "version": "3.10.13"
  }
 },
 "nbformat": 4,
 "nbformat_minor": 2
}
